{
 "cells": [
  {
   "cell_type": "code",
   "execution_count": null,
   "id": "f59e0e8d",
   "metadata": {},
   "outputs": [],
   "source": [
    "import sys\n",
    "!pip install stanza\n",
    "!pip install vaderSentiment\n",
    "import nltk\n",
    "nltk.download('stopwords')\n",
    "nltk.download('punkt')\n",
    "nltk.download('averaged_perceptron_tagger')\n",
    "nltk.download('wordnet')\n",
    "nltk.download('punkt_tab')"
   ]
  },
  {
   "cell_type": "code",
   "execution_count": null,
   "id": "aab957c8",
   "metadata": {},
   "outputs": [],
   "source": [
    "import requests\n",
    "from os.path import basename\n",
    "\n",
    "def download(url):\n",
    "    response = requests.get(url)\n",
    "    if response:\n",
    "        file_name = basename(url)\n",
    "        out = open(file_name,'w',encoding='utf-8')\n",
    "        out.write(response.text)\n",
    "        out.close()\n",
    "        \n",
    "download('https://raw.githubusercontent.com/peterverhaar/dmt-2024-assignment3/refs/heads/main/Assignment3_2.ipynb')\n",
    "download('https://raw.githubusercontent.com/peterverhaar/dmt-2024-assignment3/refs/heads/main/text_mining_2.py')"
   ]
  },
  {
   "cell_type": "code",
   "execution_count": null,
   "id": "0f5d9722",
   "metadata": {},
   "outputs": [],
   "source": []
  }
 ],
 "metadata": {
  "kernelspec": {
   "display_name": "Python 3 (ipykernel)",
   "language": "python",
   "name": "python3"
  },
  "language_info": {
   "codemirror_mode": {
    "name": "ipython",
    "version": 3
   },
   "file_extension": ".py",
   "mimetype": "text/x-python",
   "name": "python",
   "nbconvert_exporter": "python",
   "pygments_lexer": "ipython3",
   "version": "3.7.9"
  }
 },
 "nbformat": 4,
 "nbformat_minor": 5
}
